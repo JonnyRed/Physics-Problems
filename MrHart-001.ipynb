{
 "cells": [
  {
   "cell_type": "code",
   "execution_count": 380,
   "metadata": {},
   "outputs": [],
   "source": [
    "import sys\n",
    "import math\n",
    "import string\n",
    "import operator\n",
    "import random\n",
    "import collections\n",
    "import datetime\n",
    "import itertools\n",
    "import functools\n",
    "\n",
    "import numpy as np\n",
    "import pandas as pd\n",
    "\n",
    "import matplotlib\n",
    "import matplotlib.dates as mdates\n",
    "import matplotlib.colors as mcolors\n",
    "import matplotlib.pyplot as plt\n",
    "from mpl_toolkits.mplot3d import Axes3D\n",
    "import seaborn as sns\n",
    "\n",
    "import IPython\n",
    "import sympy as sp\n",
    "import sympy.core.random as spr\n",
    "import sympy.plotting as splt\n",
    "import sympy.physics.vector as spv\n",
    "import sympy.physics.mechanics as spm\n",
    "import scipy.constants as spc\n",
    "\n",
    "import IPython.display as ipd\n",
    "spv.init_vprinting()\n",
    "%matplotlib inline\n",
    "\n",
    "HALF = sp.S.Half\n",
    "PI = sp.pi\n",
    "E = sp.exp\n",
    "POSITIVEINFINITY = sp.S.Infinity\n",
    "\n",
    "\n",
    "def reference_frame(\n",
    "    frame: str,\n",
    "    x=r'\\imath', y=r'\\jmath', z=r'\\mathbf k'\n",
    ") -> spv.ReferenceFrame:\n",
    "    return spv.ReferenceFrame(\n",
    "        frame, latexs=(\n",
    "            fr'\\; {{}}^\\mathcal {frame} \\hat {x}',\n",
    "            fr'\\;{{}}^\\mathcal {frame} \\hat {y}',\n",
    "            fr'\\: {{}}^\\mathcal {frame} \\hat {{z}}'\n",
    "        )\n",
    "    )\n",
    "\n",
    "\n",
    "def RAOreference_frame(\n",
    "    frame: str,\n",
    "    x=r'E_1', y='E_2', z=r'E_3'\n",
    ") -> spv.ReferenceFrame:\n",
    "    return spv.ReferenceFrame(\n",
    "        frame, latexs=(\n",
    "            fr'\\; {{}}^{frame} \\hat {x}',\n",
    "            fr'\\;{{}}^{frame} \\hat {y}',\n",
    "            fr'\\: {{}}^{frame} \\hat {z}'\n",
    "        )\n",
    "    )\n",
    "\n",
    "\n",
    "def vector(F: spv.ReferenceFrame, rx, ry, rz=0) -> spv.Vector:\n",
    "    return rx*F.x + ry*F.y + rz*F.z\n",
    "\n",
    "\n",
    "def vector_cos(\n",
    "    F: spv.ReferenceFrame, magnitude,\n",
    "    anglex, angley, anglez=sp.pi/2\n",
    ") -> spv.Vector:\n",
    "    return (magnitude *\n",
    "            (sp.cos(anglex)*F.x\n",
    "             + sp.cos(angley)*F.y\n",
    "             + sp.cos(anglez)*F.z\n",
    "             )\n",
    "            )\n",
    "\n",
    "\n",
    "def vector_line(\n",
    "    start: spv.Vector, finish: spv.Vector\n",
    ") -> spv.Vector:\n",
    "    return finish - start\n",
    "\n",
    "\n",
    "def vector_line_eqn(\n",
    "    F: spv.ReferenceFrame, start: spv.Vector, finish: spv.Vector, kappa\n",
    ") -> spv.Vector:\n",
    "    return start + vector_line(start, finish).normalize()*kappa\n",
    "\n",
    "\n",
    "def angle_between_vectors(a: spv.Vector, b: spv.Vector):\n",
    "    return sp.acos(a.dot(b)/a.magnitude()/b.magnitude())\n",
    "\n",
    "\n",
    "def print_aligned_latex_equations(*args):\n",
    "    result = r'\\\\'.join([\n",
    "        r'\\begin{equation}',\n",
    "        r'\\begin{split}',\n",
    "        *args,\n",
    "        r'\\nonumber',\n",
    "        r'\\end{split}',\n",
    "        r'\\end{equation}'\n",
    "    ])\n",
    "\n",
    "    ipd.display(ipd.Math( rf'{result}'))"
   ]
  },
  {
   "attachments": {},
   "cell_type": "markdown",
   "metadata": {},
   "source": [
    "__Mr Hart Tweet__\n",
    "\n",
    "![](./images/MrHartTweet.png)"
   ]
  },
  {
   "cell_type": "code",
   "execution_count": 381,
   "metadata": {},
   "outputs": [
    {
     "data": {
      "image/png": "[encoded data removed]",
      "text/latex": [
       "$\\displaystyle \\left\\{ a : 52.5, \\  b : 50.0, \\  g : 9.8, \\  h_{y} : 10\\right\\}$"
      ],
      "text/plain": [
       "{a: 52.5, b: 50.0, g: 9.8, h_y: 10}"
      ]
     },
     "execution_count": 381,
     "metadata": {},
     "output_type": "execute_result"
    }
   ],
   "source": [
    "a, b, hx, hy, g = sp.symbols(\"a, b, h_x, h_y, g\", real=True, positive=True)\n",
    "values = {g:9.8, a:sp.Float(52.5), b:sp.Float(50), hy:10}\n",
    "values"
   ]
  },
  {
   "attachments": {},
   "cell_type": "markdown",
   "metadata": {},
   "source": [
    "## One frame solution 1"
   ]
  },
  {
   "cell_type": "markdown",
   "metadata": {},
   "source": [
    "__Kinematics__"
   ]
  },
  {
   "cell_type": "code",
   "execution_count": 382,
   "metadata": {},
   "outputs": [
    {
     "data": {
      "text/latex": [
       "$\\displaystyle \\left( \\left[\\begin{matrix}t v_{ix}\\\\- \\frac{g t^{2}}{2} + t v_{iy}\\\\0\\end{matrix}\\right], \\  \\left[\\begin{matrix}h_{x}\\\\h_{y}\\\\0\\end{matrix}\\right]\\right)$"
      ],
      "text/plain": [
       "⎛⎡     t⋅vᵢₓ     ⎤       ⎞\n",
       "⎜⎢               ⎥       ⎟\n",
       "⎜⎢     2         ⎥  ⎡hₓ ⎤⎟\n",
       "⎜⎢  g⋅t          ⎥  ⎢   ⎥⎟\n",
       "⎜⎢- ──── + t⋅v_iy⎥, ⎢h_y⎥⎟\n",
       "⎜⎢   2           ⎥  ⎢   ⎥⎟\n",
       "⎜⎢               ⎥  ⎣ 0 ⎦⎟\n",
       "⎝⎣       0       ⎦       ⎠"
      ]
     },
     "execution_count": 382,
     "metadata": {},
     "output_type": "execute_result"
    }
   ],
   "source": [
    "t = sp.symbols('t', real=True)\n",
    "vix, viy = sp.symbols(\"v_ix, v_iy\", real=True)\n",
    "rf = sp.Matrix([b, -a, 0])\n",
    "r_max = sp.Matrix([hx, hy, 0])\n",
    "\n",
    "v = sp.Matrix([vix, viy - g*t, 0])\n",
    "r = sp.Matrix([vix*t, viy*t - HALF*g*t**2, 0])\n",
    "\n",
    "assert (r.diff(t) - v == sp.zeros(3,1))\n",
    "\n",
    "r, r_max"
   ]
  },
  {
   "cell_type": "code",
   "execution_count": 383,
   "metadata": {},
   "outputs": [
    {
     "data": {
      "text/latex": [
       "$\\displaystyle \\left( \\left[\\begin{matrix}v_{ix}\\\\- g t + v_{iy}\\\\0\\end{matrix}\\right] = \\left[\\begin{matrix}v_{ix}\\\\0\\\\0\\end{matrix}\\right], \\  \\left[\\begin{matrix}t v_{ix}\\\\- \\frac{g t^{2}}{2} + t v_{iy}\\\\0\\end{matrix}\\right] = \\left[\\begin{matrix}h_{x}\\\\h_{y}\\\\0\\end{matrix}\\right]\\right)$"
      ],
      "text/plain": [
       "⎛                       ⎡     t⋅vᵢₓ     ⎤        ⎞\n",
       "⎜                       ⎢               ⎥        ⎟\n",
       "⎜⎡    vᵢₓ    ⎤   ⎡vᵢₓ⎤  ⎢     2         ⎥   ⎡hₓ ⎤⎟\n",
       "⎜⎢           ⎥   ⎢   ⎥  ⎢  g⋅t          ⎥   ⎢   ⎥⎟\n",
       "⎜⎢-g⋅t + v_iy⎥ = ⎢ 0 ⎥, ⎢- ──── + t⋅v_iy⎥ = ⎢h_y⎥⎟\n",
       "⎜⎢           ⎥   ⎢   ⎥  ⎢   2           ⎥   ⎢   ⎥⎟\n",
       "⎜⎣     0     ⎦   ⎣ 0 ⎦  ⎢               ⎥   ⎣ 0 ⎦⎟\n",
       "⎝                       ⎣       0       ⎦        ⎠"
      ]
     },
     "execution_count": 383,
     "metadata": {},
     "output_type": "execute_result"
    }
   ],
   "source": [
    "eqn1 = sp.Eq(v, sp.Matrix([vix, 0, 0]))\n",
    "eqn2 = sp.Eq(r, r_max )\n",
    "eqn1, eqn2"
   ]
  },
  {
   "cell_type": "code",
   "execution_count": 384,
   "metadata": {},
   "outputs": [
    {
     "data": {
      "image/png": "[encoded data removed]",
      "text/latex": [
       "$\\displaystyle \\left[ \\left( -1.42857142857143, \\  - 0.7 h_{x}, \\  -14.0\\right), \\  \\left( 1.42857142857143, \\  0.7 h_{x}, \\  14.0\\right)\\right]$"
      ],
      "text/plain": [
       "[(-1.42857142857143, -0.7⋅hₓ, -14.0), (1.42857142857143, 0.7⋅hₓ, 14.0)]"
      ]
     },
     "execution_count": 384,
     "metadata": {},
     "output_type": "execute_result"
    }
   ],
   "source": [
    "result_max_height = sp.solve(\n",
    "    [eqn1.subs(values), eqn2.subs(values)], \n",
    "    [t,  vix, viy]\n",
    ")\n",
    "result_max_height"
   ]
  },
  {
   "cell_type": "code",
   "execution_count": 385,
   "metadata": {},
   "outputs": [],
   "source": [
    "tmax = sp.Symbol('t_max', real=True, negative=False)\n",
    "\n",
    "for time, vx, vy in result_max_height:\n",
    "    if time > 0:\n",
    "        values.update({tmax:time, vix:vx, viy:vy})"
   ]
  },
  {
   "cell_type": "code",
   "execution_count": 386,
   "metadata": {},
   "outputs": [
    {
     "data": {
      "text/latex": [
       "$\\displaystyle \\left[\\begin{matrix}b\\\\- a\\\\0\\end{matrix}\\right] = \\left[\\begin{matrix}0.7 h_{x} t_{f}\\\\- 4.9 t_{f}^{2} + 14.0 t_{f}\\\\0\\end{matrix}\\right]$"
      ],
      "text/plain": [
       "       ⎡     0.7⋅hₓ⋅t_f      ⎤\n",
       "⎡b ⎤   ⎢                     ⎥\n",
       "⎢  ⎥   ⎢         2           ⎥\n",
       "⎢-a⎥ = ⎢- 4.9⋅t_f  + 14.0⋅t_f⎥\n",
       "⎢  ⎥   ⎢                     ⎥\n",
       "⎣0 ⎦   ⎣          0          ⎦"
      ]
     },
     "execution_count": 386,
     "metadata": {},
     "output_type": "execute_result"
    }
   ],
   "source": [
    "tf = sp.Symbol('t_f', real=True, negative=False)\n",
    "eqn3 = sp.Eq(rf, r.subs(t, tf).subs(values))\n",
    "eqn3"
   ]
  },
  {
   "cell_type": "code",
   "execution_count": 387,
   "metadata": {},
   "outputs": [
    {
     "data": {
      "image/png": "[encoded data removed]",
      "text/latex": [
       "$\\displaystyle \\left\\{ h_{x} : 14.2857142857143, \\  t_{f} : 5.0\\right\\}$"
      ],
      "text/plain": [
       "{hₓ: 14.2857142857143, t_f: 5.0}"
      ]
     },
     "execution_count": 387,
     "metadata": {},
     "output_type": "execute_result"
    }
   ],
   "source": [
    "result_tf = sp.solve(eqn3.subs(values), [tf, hx], dict=True)[0]\n",
    "result_tf"
   ]
  },
  {
   "cell_type": "code",
   "execution_count": 388,
   "metadata": {},
   "outputs": [],
   "source": [
    "values.update(result_tf)"
   ]
  },
  {
   "cell_type": "code",
   "execution_count": 389,
   "metadata": {},
   "outputs": [
    {
     "data": {
      "image/png": "[encoded data removed]",
      "text/latex": [
       "$\\displaystyle \\left\\{ a : 52.5, \\  b : 50.0, \\  g : 9.8, \\  h_{x} : 14.2857142857143, \\  h_{y} : 10, \\  t_{f} : 5.0, \\  t_{max} : 1.42857142857143, \\  v_{ix} : 0.7 h_{x}, \\  v_{iy} : 14.0\\right\\}$"
      ],
      "text/plain": [
       "{a: 52.5, b: 50.0, g: 9.8, hₓ: 14.2857142857143, h_y: 10, t_f: 5.0, tₘₐₓ: 1.42\n",
       "857142857143, vᵢₓ: 0.7⋅hₓ, v_iy: 14.0}"
      ]
     },
     "execution_count": 389,
     "metadata": {},
     "output_type": "execute_result"
    }
   ],
   "source": [
    "values"
   ]
  },
  {
   "cell_type": "code",
   "execution_count": 390,
   "metadata": {},
   "outputs": [
    {
     "data": {
      "image/png": "[encoded data removed]",
      "text/latex": [
       "$\\displaystyle 17.2046505340853$"
      ],
      "text/plain": [
       "17.2046505340853"
      ]
     },
     "execution_count": 390,
     "metadata": {},
     "output_type": "execute_result"
    }
   ],
   "source": [
    "sp.sqrt(values[vix].subs(values)**2 + values[viy]**2)"
   ]
  },
  {
   "cell_type": "code",
   "execution_count": 391,
   "metadata": {},
   "outputs": [
    {
     "data": {
      "text/latex": [
       "$\\displaystyle \\left[\\begin{matrix}\\frac{b}{\\sqrt{a^{2} + b^{2}}}\\\\- \\frac{a}{\\sqrt{a^{2} + b^{2}}}\\\\0\\end{matrix}\\right]$"
      ],
      "text/plain": [
       "⎡     b      ⎤\n",
       "⎢────────────⎥\n",
       "⎢   _________⎥\n",
       "⎢  ╱  2    2 ⎥\n",
       "⎢╲╱  a  + b  ⎥\n",
       "⎢            ⎥\n",
       "⎢    -a      ⎥\n",
       "⎢────────────⎥\n",
       "⎢   _________⎥\n",
       "⎢  ╱  2    2 ⎥\n",
       "⎢╲╱  a  + b  ⎥\n",
       "⎢            ⎥\n",
       "⎣     0      ⎦"
      ]
     },
     "execution_count": 391,
     "metadata": {},
     "output_type": "execute_result"
    }
   ],
   "source": [
    "rf.normalized()"
   ]
  },
  {
   "cell_type": "code",
   "execution_count": 392,
   "metadata": {},
   "outputs": [
    {
     "data": {
      "text/latex": [
       "$\\displaystyle \\left[\\begin{matrix}0.689655172413793\\\\-0.724137931034483\\\\0\\end{matrix}\\right]$"
      ],
      "text/plain": [
       "⎡0.689655172413793 ⎤\n",
       "⎢                  ⎥\n",
       "⎢-0.724137931034483⎥\n",
       "⎢                  ⎥\n",
       "⎣        0         ⎦"
      ]
     },
     "execution_count": 392,
     "metadata": {},
     "output_type": "execute_result"
    }
   ],
   "source": [
    "rf.normalized().subs(values)"
   ]
  },
  {
   "cell_type": "code",
   "execution_count": 393,
   "metadata": {},
   "outputs": [
    {
     "data": {
      "text/latex": [
       "$\\displaystyle \\left[\\begin{matrix}v_{ix}\\\\- g t + v_{iy}\\\\0\\end{matrix}\\right]$"
      ],
      "text/plain": [
       "⎡    vᵢₓ    ⎤\n",
       "⎢           ⎥\n",
       "⎢-g⋅t + v_iy⎥\n",
       "⎢           ⎥\n",
       "⎣     0     ⎦"
      ]
     },
     "execution_count": 393,
     "metadata": {},
     "output_type": "execute_result"
    }
   ],
   "source": [
    "v"
   ]
  },
  {
   "cell_type": "code",
   "execution_count": 394,
   "metadata": {},
   "outputs": [
    {
     "data": {
      "image/png": "[encoded data removed]",
      "text/latex": [
       "$\\displaystyle \\left\\{ a : 52.5, \\  b : 50.0, \\  g : 9.8, \\  h_{x} : 14.2857142857143, \\  h_{y} : 10, \\  t_{f} : 5.0, \\  t_{max} : 1.42857142857143, \\  v_{ix} : 0.7 h_{x}, \\  v_{iy} : 14.0\\right\\}$"
      ],
      "text/plain": [
       "{a: 52.5, b: 50.0, g: 9.8, hₓ: 14.2857142857143, h_y: 10, t_f: 5.0, tₘₐₓ: 1.42\n",
       "857142857143, vᵢₓ: 0.7⋅hₓ, v_iy: 14.0}"
      ]
     },
     "execution_count": 394,
     "metadata": {},
     "output_type": "execute_result"
    }
   ],
   "source": [
    "values"
   ]
  },
  {
   "cell_type": "code",
   "execution_count": 395,
   "metadata": {},
   "outputs": [
    {
     "data": {
      "text/latex": [
       "$\\displaystyle \\left[\\begin{matrix}\\frac{0.714285714285714}{\\sqrt{\\left(0.7 t_{norm} - 1\\right)^{2} + 0.510204081632653}}\\\\\\frac{0.0714285714285714 \\cdot \\left(14.0 - 9.8 t_{norm}\\right)}{\\sqrt{\\left(0.7 t_{norm} - 1\\right)^{2} + 0.510204081632653}}\\\\0\\end{matrix}\\right]$"
      ],
      "text/plain": [
       "⎡            0.714285714285714            ⎤\n",
       "⎢─────────────────────────────────────────⎥\n",
       "⎢   ______________________________________⎥\n",
       "⎢  ╱                2                     ⎥\n",
       "⎢╲╱  (0.7⋅tₙₒᵣₘ - 1)  + 0.510204081632653 ⎥\n",
       "⎢                                         ⎥\n",
       "⎢  0.0714285714285714⋅(14.0 - 9.8⋅tₙₒᵣₘ)  ⎥\n",
       "⎢─────────────────────────────────────────⎥\n",
       "⎢   ______________________________________⎥\n",
       "⎢  ╱                2                     ⎥\n",
       "⎢╲╱  (0.7⋅tₙₒᵣₘ - 1)  + 0.510204081632653 ⎥\n",
       "⎢                                         ⎥\n",
       "⎣                    0                    ⎦"
      ]
     },
     "execution_count": 395,
     "metadata": {},
     "output_type": "execute_result"
    }
   ],
   "source": [
    "t_norm = sp.symbols('t_norm', real=True, negative=False)\n",
    "v.normalized().subs(values).subs(values).subs(t, t_norm)"
   ]
  },
  {
   "cell_type": "code",
   "execution_count": 396,
   "metadata": {},
   "outputs": [
    {
     "data": {
      "text/latex": [
       "$\\displaystyle \\left[\\begin{matrix}0.689655172413793\\\\-0.724137931034483\\\\0\\end{matrix}\\right] = \\left[\\begin{matrix}\\frac{0.714285714285714}{\\sqrt{\\left(0.7 t_{norm} - 1\\right)^{2} + 0.510204081632653}}\\\\\\frac{0.0714285714285714 \\cdot \\left(14.0 - 9.8 t_{norm}\\right)}{\\sqrt{\\left(0.7 t_{norm} - 1\\right)^{2} + 0.510204081632653}}\\\\0\\end{matrix}\\right]$"
      ],
      "text/plain": [
       "                       ⎡            0.714285714285714            ⎤\n",
       "                       ⎢─────────────────────────────────────────⎥\n",
       "                       ⎢   ______________________________________⎥\n",
       "                       ⎢  ╱                2                     ⎥\n",
       "⎡0.689655172413793 ⎤   ⎢╲╱  (0.7⋅tₙₒᵣₘ - 1)  + 0.510204081632653 ⎥\n",
       "⎢                  ⎥   ⎢                                         ⎥\n",
       "⎢-0.724137931034483⎥ = ⎢  0.0714285714285714⋅(14.0 - 9.8⋅tₙₒᵣₘ)  ⎥\n",
       "⎢                  ⎥   ⎢─────────────────────────────────────────⎥\n",
       "⎣        0         ⎦   ⎢   ______________________________________⎥\n",
       "                       ⎢  ╱                2                     ⎥\n",
       "                       ⎢╲╱  (0.7⋅tₙₒᵣₘ - 1)  + 0.510204081632653 ⎥\n",
       "                       ⎢                                         ⎥\n",
       "                       ⎣                    0                    ⎦"
      ]
     },
     "execution_count": 396,
     "metadata": {},
     "output_type": "execute_result"
    }
   ],
   "source": [
    "eqn4 = sp.Eq(\n",
    "    rf.normalized().subs(values), \n",
    "    v.normalized().subs(values).subs(values).subs(t, t_norm)\n",
    ")\n",
    "\n",
    "eqn4"
   ]
  },
  {
   "cell_type": "code",
   "execution_count": 397,
   "metadata": {},
   "outputs": [
    {
     "data": {
      "image/png": "[encoded data removed]",
      "text/latex": [
       "$\\displaystyle \\left[ \\left( 2.5,\\right)\\right]$"
      ],
      "text/plain": [
       "[(2.5,)]"
      ]
     },
     "execution_count": 397,
     "metadata": {},
     "output_type": "execute_result"
    }
   ],
   "source": [
    "sp.solve(eqn4, t_norm)"
   ]
  }
 ],
 "metadata": {
  "kernelspec": {
   "display_name": "3.9",
   "language": "python",
   "name": "python3"
  },
  "language_info": {
   "codemirror_mode": {
    "name": "ipython",
    "version": 3
   },
   "file_extension": ".py",
   "mimetype": "text/x-python",
   "name": "python",
   "nbconvert_exporter": "python",
   "pygments_lexer": "ipython3",
   "version": "3.9.13"
  },
  "orig_nbformat": 4
 },
 "nbformat": 4,
 "nbformat_minor": 2
}
