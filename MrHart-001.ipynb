{
 "cells": [
  {
   "cell_type": "code",
   "execution_count": 453,
   "metadata": {},
   "outputs": [],
   "source": [
    "import sys\n",
    "import math\n",
    "import string\n",
    "import operator\n",
    "import random\n",
    "import collections\n",
    "import datetime\n",
    "import itertools\n",
    "import functools\n",
    "\n",
    "import numpy as np\n",
    "import pandas as pd\n",
    "\n",
    "import matplotlib\n",
    "import matplotlib.dates as mdates\n",
    "import matplotlib.colors as mcolors\n",
    "import matplotlib.pyplot as plt\n",
    "from mpl_toolkits.mplot3d import Axes3D\n",
    "import seaborn as sns\n",
    "\n",
    "import IPython\n",
    "import sympy as sp\n",
    "import sympy.core.random as spr\n",
    "import sympy.plotting as splt\n",
    "import sympy.physics.vector as spv\n",
    "import sympy.physics.mechanics as spm\n",
    "import scipy.constants as spc\n",
    "\n",
    "import IPython.display as ipd\n",
    "spv.init_vprinting()\n",
    "%matplotlib inline\n",
    "\n",
    "HALF = sp.S.Half\n",
    "PI = sp.pi\n",
    "E = sp.exp\n",
    "POSITIVEINFINITY = sp.S.Infinity\n",
    "\n",
    "\n",
    "def reference_frame(\n",
    "    frame: str,\n",
    "    x=r'\\imath', y=r'\\jmath', z=r'\\mathbf k'\n",
    ") -> spv.ReferenceFrame:\n",
    "    return spv.ReferenceFrame(\n",
    "        frame, latexs=(\n",
    "            fr'\\; {{}}^\\mathcal {frame} \\hat {x}',\n",
    "            fr'\\;{{}}^\\mathcal {frame} \\hat {y}',\n",
    "            fr'\\: {{}}^\\mathcal {frame} \\hat {{z}}'\n",
    "        )\n",
    "    )\n",
    "\n",
    "\n",
    "def RAOreference_frame(\n",
    "    frame: str,\n",
    "    x=r'E_1', y='E_2', z=r'E_3'\n",
    ") -> spv.ReferenceFrame:\n",
    "    return spv.ReferenceFrame(\n",
    "        frame, latexs=(\n",
    "            fr'\\; {{}}^{frame} \\hat {x}',\n",
    "            fr'\\;{{}}^{frame} \\hat {y}',\n",
    "            fr'\\: {{}}^{frame} \\hat {z}'\n",
    "        )\n",
    "    )\n",
    "\n",
    "\n",
    "def vector(F: spv.ReferenceFrame, rx, ry, rz=0) -> spv.Vector:\n",
    "    return rx*F.x + ry*F.y + rz*F.z\n",
    "\n",
    "\n",
    "def vector_cos(\n",
    "    F: spv.ReferenceFrame, magnitude,\n",
    "    anglex, angley, anglez=sp.pi/2\n",
    ") -> spv.Vector:\n",
    "    return (magnitude *\n",
    "            (sp.cos(anglex)*F.x\n",
    "             + sp.cos(angley)*F.y\n",
    "             + sp.cos(anglez)*F.z\n",
    "             )\n",
    "            )\n",
    "\n",
    "\n",
    "def vector_line(\n",
    "    start: spv.Vector, finish: spv.Vector\n",
    ") -> spv.Vector:\n",
    "    return finish - start\n",
    "\n",
    "\n",
    "def vector_line_eqn(\n",
    "    F: spv.ReferenceFrame, start: spv.Vector, finish: spv.Vector, kappa\n",
    ") -> spv.Vector:\n",
    "    return start + vector_line(start, finish).normalize()*kappa\n",
    "\n",
    "\n",
    "def angle_between_vectors(a: spv.Vector, b: spv.Vector):\n",
    "    return sp.acos(a.dot(b)/a.magnitude()/b.magnitude())\n",
    "\n",
    "\n",
    "def print_aligned_latex_equations(*args):\n",
    "    result = r'\\\\'.join([\n",
    "        r'\\begin{equation}',\n",
    "        r'\\begin{split}',\n",
    "        *args,\n",
    "        r'\\nonumber',\n",
    "        r'\\end{split}',\n",
    "        r'\\end{equation}'\n",
    "    ])\n",
    "\n",
    "    ipd.display(ipd.Math( rf'{result}'))"
   ]
  },
  {
   "attachments": {},
   "cell_type": "markdown",
   "metadata": {},
   "source": [
    "__Mr Hart Tweet__\n",
    "\n",
    "![](./images/MrHartTweet.png)"
   ]
  },
  {
   "cell_type": "code",
   "execution_count": 454,
   "metadata": {},
   "outputs": [
    {
     "data": {
      "image/png": "[encoded data removed]",
      "text/latex": [
       "$\\displaystyle \\left\\{ a : 52.5, \\  b : 50.0, \\  g : 9.8, \\  h_{y} : 10\\right\\}$"
      ],
      "text/plain": [
       "{a: 52.5, b: 50.0, g: 9.8, h_y: 10}"
      ]
     },
     "execution_count": 454,
     "metadata": {},
     "output_type": "execute_result"
    }
   ],
   "source": [
    "a, b, hx, hy, g = sp.symbols(\"a, b, h_x, h_y, g\", real=True, positive=True)\n",
    "values = {g:9.8, a:sp.Float(52.5), b:sp.Float(50), hy:10}\n",
    "values"
   ]
  },
  {
   "attachments": {},
   "cell_type": "markdown",
   "metadata": {},
   "source": [
    "## One frame solution "
   ]
  },
  {
   "cell_type": "markdown",
   "metadata": {},
   "source": [
    "__Kinematics__"
   ]
  },
  {
   "cell_type": "code",
   "execution_count": 455,
   "metadata": {},
   "outputs": [
    {
     "data": {
      "image/png": "[encoded data removed]",
      "text/latex": [
       "$\\displaystyle \\left( t, \\  t_{mh}, \\  t_{f}, \\  t_{\\parallel}\\right)$"
      ],
      "text/plain": [
       "(t, tₘₕ, t_f, t_\\parallel)"
      ]
     },
     "execution_count": 455,
     "metadata": {},
     "output_type": "execute_result"
    }
   ],
   "source": [
    "t, t_max_height, tf, t_para = sp.symbols(\n",
    "    r't , t_mh, t_f, t_\\parallel', \n",
    "    real=True, negative=False\n",
    ")\n",
    "\n",
    "vix, viy = sp.symbols(\"v_ix, v_iy\", real=True)\n",
    "rf = sp.Matrix([b, -a, 0])\n",
    "r_max_height = sp.Matrix([hx, hy, 0])\n",
    "\n",
    "v = sp.Matrix([vix, viy - g*t, 0])\n",
    "r = sp.Matrix([vix*t, viy*t - HALF*g*t**2, 0])\n",
    "\n",
    "assert (r.diff(t) - v == sp.zeros(3,1))\n",
    "\n",
    "t, t_max_height, tf, t_para"
   ]
  },
  {
   "cell_type": "code",
   "execution_count": 456,
   "metadata": {},
   "outputs": [
    {
     "data": {
      "text/latex": [
       "$\\displaystyle \\left( \\left[\\begin{matrix}v_{ix}\\\\- g t_{mh} + v_{iy}\\\\0\\end{matrix}\\right] = \\left[\\begin{matrix}v_{ix}\\\\0\\\\0\\end{matrix}\\right], \\  \\left[\\begin{matrix}t_{mh} v_{ix}\\\\- \\frac{g t_{mh}^{2}}{2} + t_{mh} v_{iy}\\\\0\\end{matrix}\\right] = \\left[\\begin{matrix}h_{x}\\\\h_{y}\\\\0\\end{matrix}\\right], \\  \\left[\\begin{matrix}b\\\\- a\\\\0\\end{matrix}\\right] = \\left[\\begin{matrix}t_{f} v_{ix}\\\\- 4.9 t_{f}^{2} + t_{f} v_{iy}\\\\0\\end{matrix}\\right], \\  \\left[\\begin{matrix}0.689655172413793\\\\-0.724137931034483\\\\0\\end{matrix}\\right] = \\left[\\begin{matrix}\\frac{0.102040816326531 v_{ix}}{\\sqrt{0.0104123281965848 v_{ix}^{2} + \\left(t_{\\parallel} - 0.102040816326531 v_{iy}\\right)^{2}}}\\\\\\frac{0.102040816326531 \\left(- 9.8 t_{\\parallel} + v_{iy}\\right)}{\\sqrt{0.0104123281965848 v_{ix}^{2} + \\left(t_{\\parallel} - 0.102040816326531 v_{iy}\\right)^{2}}}\\\\0\\end{matrix}\\right]\\right)$"
      ],
      "text/plain": [
       "⎛                                                                             \n",
       "⎜                                                                             \n",
       "⎜                         ⎡      tₘₕ⋅vᵢₓ      ⎤                               \n",
       "⎜                         ⎢                   ⎥                 ⎡       t_f⋅vᵢ\n",
       "⎜⎡     vᵢₓ     ⎤   ⎡vᵢₓ⎤  ⎢       2           ⎥   ⎡hₓ ⎤  ⎡b ⎤   ⎢             \n",
       "⎜⎢             ⎥   ⎢   ⎥  ⎢  g⋅tₘₕ            ⎥   ⎢   ⎥  ⎢  ⎥   ⎢         2   \n",
       "⎜⎢-g⋅tₘₕ + v_iy⎥ = ⎢ 0 ⎥, ⎢- ────── + tₘₕ⋅v_iy⎥ = ⎢h_y⎥, ⎢-a⎥ = ⎢- 4.9⋅t_f  + \n",
       "⎜⎢             ⎥   ⎢   ⎥  ⎢    2              ⎥   ⎢   ⎥  ⎢  ⎥   ⎢             \n",
       "⎜⎣      0      ⎦   ⎣ 0 ⎦  ⎢                   ⎥   ⎣ 0 ⎦  ⎣0 ⎦   ⎣          0  \n",
       "⎜                         ⎣         0         ⎦                               \n",
       "⎜                                                                             \n",
       "⎜                                                                             \n",
       "⎝                                                                             \n",
       "\n",
       "                                  ⎡                        0.102040816326531⋅v\n",
       "                                  ⎢───────────────────────────────────────────\n",
       "                                  ⎢   ________________________________________\n",
       "ₓ       ⎤                         ⎢  ╱                       2                \n",
       "        ⎥  ⎡0.689655172413793 ⎤   ⎢╲╱  0.0104123281965848⋅vᵢₓ  + (t_\\parallel \n",
       "        ⎥  ⎢                  ⎥   ⎢                                           \n",
       "t_f⋅v_iy⎥, ⎢-0.724137931034483⎥ = ⎢             0.102040816326531⋅(-9.8⋅t_\\par\n",
       "        ⎥  ⎢                  ⎥   ⎢───────────────────────────────────────────\n",
       "        ⎦  ⎣        0         ⎦   ⎢   ________________________________________\n",
       "                                  ⎢  ╱                       2                \n",
       "                                  ⎢╲╱  0.0104123281965848⋅vᵢₓ  + (t_\\parallel \n",
       "                                  ⎢                                           \n",
       "                                  ⎣                                  0        \n",
       "\n",
       "ᵢₓ                         ⎤⎞\n",
       "───────────────────────────⎥⎟\n",
       "___________________________⎥⎟\n",
       "                         2 ⎥⎟\n",
       "- 0.102040816326531⋅v_iy)  ⎥⎟\n",
       "                           ⎥⎟\n",
       "allel + v_iy)              ⎥⎟\n",
       "───────────────────────────⎥⎟\n",
       "___________________________⎥⎟\n",
       "                         2 ⎥⎟\n",
       "- 0.102040816326531⋅v_iy)  ⎥⎟\n",
       "                           ⎥⎟\n",
       "                           ⎦⎠"
      ]
     },
     "execution_count": 456,
     "metadata": {},
     "output_type": "execute_result"
    }
   ],
   "source": [
    "eqn1 = sp.Eq(v.subs(t, t_max_height), sp.Matrix([vix, 0, 0]))\n",
    "eqn2 = sp.Eq(r.subs(t, t_max_height), r_max_height)\n",
    "eqn3 = sp.Eq(rf, r.subs(t, tf).subs(values))\n",
    "\n",
    "eqn4 = sp.Eq(\n",
    "    rf.normalized().subs(values), \n",
    "    v.normalized().subs(values).subs(t, t_para)\n",
    ")\n",
    "\n",
    "eqn1, eqn2, eqn3, eqn4"
   ]
  },
  {
   "cell_type": "code",
   "execution_count": null,
   "metadata": {},
   "outputs": [],
   "source": []
  },
  {
   "cell_type": "code",
   "execution_count": 458,
   "metadata": {},
   "outputs": [
    {
     "data": {
      "image/png": "[encoded data removed]",
      "text/latex": [
       "$\\displaystyle \\left\\{ h_{x} : 14.2857142857143, \\  t_{\\parallel} : 2.5, \\  t_{f} : 5.0, \\  t_{mh} : 1.42857142857143, \\  v_{ix} : 10.0, \\  v_{iy} : 14.0\\right\\}$"
      ],
      "text/plain": [
       "{hₓ: 14.2857142857143, t_\\parallel: 2.5, t_f: 5.0, tₘₕ: 1.42857142857143, vᵢₓ:\n",
       " 10.0, v_iy: 14.0}"
      ]
     },
     "execution_count": 458,
     "metadata": {},
     "output_type": "execute_result"
    }
   ],
   "source": [
    "result = sp.solve(\n",
    "    [eqn1.subs(values), \n",
    "     eqn2.subs(values), \n",
    "     eqn3.subs(values), \n",
    "     eqn4.subs(values)],\n",
    "    dict=True\n",
    ")[0]\n",
    "result"
   ]
  },
  {
   "cell_type": "code",
   "execution_count": 470,
   "metadata": {},
   "outputs": [
    {
     "data": {
      "text/latex": [
       "$\\displaystyle \\begin{equation}\\\\\\begin{split}\\\\\n",
       "    \\textrm{Initial vertical projection velocity} \\quad\n",
       "        &14.0\\\\\n",
       "    \\textrm{projection speed} \\quad\n",
       "        &17.2\\\\\n",
       "    \\textrm{time parallel to OB} \\quad\n",
       "        &2.5\\\\\n",
       "\\\\\\nonumber\\\\\\end{split}\\\\\\end{equation}$"
      ],
      "text/plain": [
       "<IPython.core.display.Math object>"
      ]
     },
     "metadata": {},
     "output_type": "display_data"
    }
   ],
   "source": [
    "speed = sp.sqrt(result[vix]**2 + result[viy]**2).evalf(4)\n",
    "\n",
    "print_aligned_latex_equations(rf\"\"\"\n",
    "    \\textrm{{Initial vertical projection velocity}} \\quad\n",
    "        &{spv.vlatex(result[viy])}\\\\\n",
    "    \\textrm{{projection speed}} \\quad\n",
    "        &{spv.vlatex(speed)}\\\\\n",
    "    \\textrm{{time parallel to OB}} \\quad\n",
    "        &{spv.vlatex(result[t_para])}\\\\\n",
    "\"\"\" )"
   ]
  },
  {
   "cell_type": "code",
   "execution_count": null,
   "metadata": {},
   "outputs": [],
   "source": []
  }
 ],
 "metadata": {
  "kernelspec": {
   "display_name": "3.9",
   "language": "python",
   "name": "python3"
  },
  "language_info": {
   "codemirror_mode": {
    "name": "ipython",
    "version": 3
   },
   "file_extension": ".py",
   "mimetype": "text/x-python",
   "name": "python",
   "nbconvert_exporter": "python",
   "pygments_lexer": "ipython3",
   "version": "3.9.13"
  },
  "orig_nbformat": 4
 },
 "nbformat": 4,
 "nbformat_minor": 2
}
